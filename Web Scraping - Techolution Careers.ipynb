{
 "cells": [
  {
   "cell_type": "markdown",
   "metadata": {},
   "source": [
    "# Problem Statement: Scrap the data from Techolution Careers website and store the data according to the date of posting(Most old first) as a DataFrame in CSV."
   ]
  },
  {
   "cell_type": "markdown",
   "metadata": {},
   "source": [
    "# Importing all the necessary packages"
   ]
  },
  {
   "cell_type": "code",
   "execution_count": 1,
   "metadata": {},
   "outputs": [],
   "source": [
    "import pandas as pd\n",
    "import numpy as np\n",
    "import re"
   ]
  },
  {
   "cell_type": "markdown",
   "metadata": {},
   "source": [
    "# Extract Job postings - Techolution careers"
   ]
  },
  {
   "cell_type": "markdown",
   "metadata": {},
   "source": [
    "There are multiple ways to scrape data from web browser. Below, I have used Selenium as it is highly efficient to automate web browser interaction from Python and several other features including handling wait time to load web page,timeput situations, \n",
    "identifying elements is very feasible"
   ]
  },
  {
   "cell_type": "markdown",
   "metadata": {},
   "source": [
    "# Approach followed: "
   ]
  },
  {
   "cell_type": "markdown",
   "metadata": {},
   "source": [
    "     - Import Packages\n",
    "     - Import Selenium webdriver package\n",
    "     - Browser initiation\n",
    "     - Running the desired url in the driver window\n",
    "     - Identify css elements using Find element by css selector method\n",
    "     - Create an empty DataFrame\n",
    "     - Creating a For loop such that it iterates over all the div elements and appending these elements into the empty data frame\n",
    "     - Sorting the dataframe based on job posted date\n",
    "     - Converting the dataframe into a csv file"
   ]
  },
  {
   "cell_type": "markdown",
   "metadata": {},
   "source": [
    "Importing webdriver from selenium package "
   ]
  },
  {
   "cell_type": "code",
   "execution_count": 2,
   "metadata": {},
   "outputs": [],
   "source": [
    "from selenium import webdriver "
   ]
  },
  {
   "cell_type": "markdown",
   "metadata": {},
   "source": [
    "Using the below command Selenium will now start a browser session"
   ]
  },
  {
   "cell_type": "code",
   "execution_count": 3,
   "metadata": {},
   "outputs": [],
   "source": [
    "browser = webdriver.Chrome('chromedriver.exe')"
   ]
  },
  {
   "cell_type": "markdown",
   "metadata": {},
   "source": [
    "mentioned the url for the Techolution careers website. Browser will now run the specified url"
   ]
  },
  {
   "cell_type": "code",
   "execution_count": 4,
   "metadata": {},
   "outputs": [],
   "source": [
    "url = 'https://techolution.app.param.ai/jobs/'\n",
    "browser.get(url)"
   ]
  },
  {
   "cell_type": "markdown",
   "metadata": {},
   "source": [
    "We can identify the elements using the find elements by css selector function. It is always important to use the browser \n",
    "keyword as it acts as a parent"
   ]
  },
  {
   "cell_type": "markdown",
   "metadata": {},
   "source": [
    "Open the url in another tab to identify elements"
   ]
  },
  {
   "cell_type": "markdown",
   "metadata": {},
   "source": [
    "We can verify each element using 'Inspect element'. Right click on any hyperlink or in this case a job opening and click on \n",
    "Inspect element"
   ]
  },
  {
   "cell_type": "markdown",
   "metadata": {},
   "source": [
    "Note: Do not click or make changes in the browser window initiated by Selenium"
   ]
  },
  {
   "cell_type": "markdown",
   "metadata": {},
   "source": [
    "Hover over elements you wish to identify. Each job posting is enclosed in a 'div' tag. \n",
    "So identifying all the div tags in the page"
   ]
  },
  {
   "cell_type": "code",
   "execution_count": 5,
   "metadata": {},
   "outputs": [
    {
     "data": {
      "text/plain": [
       "24"
      ]
     },
     "execution_count": 5,
     "metadata": {},
     "output_type": "execute_result"
    }
   ],
   "source": [
    "job_tags = browser.find_elements_by_css_selector('div.twelve.wide.computer.twelve.wide.tablet.sixteen.wide.mobile.column')\n",
    "len(job_tags) #all jobs information so elements"
   ]
  },
  {
   "cell_type": "markdown",
   "metadata": {},
   "source": [
    "We have Identified there are 24 listings on the page"
   ]
  },
  {
   "cell_type": "markdown",
   "metadata": {},
   "source": [
    "Created an empty data frame jobs and after each iteration, appended the elements into the dataframe"
   ]
  },
  {
   "cell_type": "markdown",
   "metadata": {},
   "source": [
    "Using a For Loop, iterating over each job tag and identifying job title, job type, required experience and location"
   ]
  },
  {
   "cell_type": "markdown",
   "metadata": {},
   "source": [
    "Job type, location and experience are specified in paragraph tag ang hence used regular expression to identify those elements\n",
    "and split each item and corresponding value is assigned under each category"
   ]
  },
  {
   "cell_type": "code",
   "execution_count": 16,
   "metadata": {
    "scrolled": false
   },
   "outputs": [],
   "source": [
    "jobs = pd.DataFrame()\n",
    "\n",
    "for job in job_tags:\n",
    "    job_title = job.find_element_by_css_selector('h3.job_name.text-ellipsis').text\n",
    "    elements = job.find_element_by_css_selector('p').text\n",
    "    list1 = re.split(r\"\\ . \", elements)\n",
    "    job_type = list1[0]\n",
    "    loc = list1[1]\n",
    "    exp = list1[2] + '-' + list1[3] \n",
    "    \n",
    "    curr_job = {'job_title' : job_title, 'job_type': job_type, 'location' : loc, 'experience' : exp} #, 'date_posted' : date \n",
    "    jobs = jobs.append(curr_job,ignore_index = True)"
   ]
  },
  {
   "cell_type": "markdown",
   "metadata": {},
   "source": [
    "Data elements in jobs Dataframe"
   ]
  },
  {
   "cell_type": "code",
   "execution_count": 7,
   "metadata": {},
   "outputs": [
    {
     "data": {
      "text/html": [
       "<div>\n",
       "<style scoped>\n",
       "    .dataframe tbody tr th:only-of-type {\n",
       "        vertical-align: middle;\n",
       "    }\n",
       "\n",
       "    .dataframe tbody tr th {\n",
       "        vertical-align: top;\n",
       "    }\n",
       "\n",
       "    .dataframe thead th {\n",
       "        text-align: right;\n",
       "    }\n",
       "</style>\n",
       "<table border=\"1\" class=\"dataframe\">\n",
       "  <thead>\n",
       "    <tr style=\"text-align: right;\">\n",
       "      <th></th>\n",
       "      <th>experience</th>\n",
       "      <th>job_title</th>\n",
       "      <th>job_type</th>\n",
       "      <th>location</th>\n",
       "    </tr>\n",
       "  </thead>\n",
       "  <tbody>\n",
       "    <tr>\n",
       "      <th>0</th>\n",
       "      <td>0-2 Years</td>\n",
       "      <td>Big Data Intern</td>\n",
       "      <td>Internship</td>\n",
       "      <td>Hyderabad</td>\n",
       "    </tr>\n",
       "    <tr>\n",
       "      <th>1</th>\n",
       "      <td>5-10 Years</td>\n",
       "      <td>Senior Cloud Specialist</td>\n",
       "      <td>Full-time</td>\n",
       "      <td>Singapore</td>\n",
       "    </tr>\n",
       "    <tr>\n",
       "      <th>2</th>\n",
       "      <td>2-5 Years</td>\n",
       "      <td>Cloud Native Developer</td>\n",
       "      <td>Full-time</td>\n",
       "      <td>Hyderabad</td>\n",
       "    </tr>\n",
       "    <tr>\n",
       "      <th>3</th>\n",
       "      <td>0-4 Years</td>\n",
       "      <td>Data Scientist Intern</td>\n",
       "      <td>Internship</td>\n",
       "      <td>Hyderabad</td>\n",
       "    </tr>\n",
       "    <tr>\n",
       "      <th>4</th>\n",
       "      <td>2-4 Years</td>\n",
       "      <td>Embedded Engineer</td>\n",
       "      <td>Full-time</td>\n",
       "      <td>Hyderabad</td>\n",
       "    </tr>\n",
       "    <tr>\n",
       "      <th>5</th>\n",
       "      <td>2-6 Years</td>\n",
       "      <td>Networking &amp; Security Specialist</td>\n",
       "      <td>Full-time</td>\n",
       "      <td>Hyderabad</td>\n",
       "    </tr>\n",
       "    <tr>\n",
       "      <th>6</th>\n",
       "      <td>0-1 Years</td>\n",
       "      <td>System Engineer</td>\n",
       "      <td>Internship</td>\n",
       "      <td>Mauritius</td>\n",
       "    </tr>\n",
       "    <tr>\n",
       "      <th>7</th>\n",
       "      <td>1-3 Years</td>\n",
       "      <td>Associate QA Engineer</td>\n",
       "      <td>Full-time</td>\n",
       "      <td>Hyderabad</td>\n",
       "    </tr>\n",
       "    <tr>\n",
       "      <th>8</th>\n",
       "      <td>9-15 Years</td>\n",
       "      <td>Solution Architect</td>\n",
       "      <td>Full-time</td>\n",
       "      <td>Hyderabad</td>\n",
       "    </tr>\n",
       "    <tr>\n",
       "      <th>9</th>\n",
       "      <td>4-9 Years</td>\n",
       "      <td>Sr. Microservices Developer</td>\n",
       "      <td>Full-time</td>\n",
       "      <td>Hyderabad</td>\n",
       "    </tr>\n",
       "    <tr>\n",
       "      <th>10</th>\n",
       "      <td>0-1 Years</td>\n",
       "      <td>SOA Consultant</td>\n",
       "      <td>Full-time</td>\n",
       "      <td>Hyderabad</td>\n",
       "    </tr>\n",
       "    <tr>\n",
       "      <th>11</th>\n",
       "      <td>3-8 Years</td>\n",
       "      <td>Android Mobile Developer</td>\n",
       "      <td>Full-time</td>\n",
       "      <td>mauritius</td>\n",
       "    </tr>\n",
       "    <tr>\n",
       "      <th>12</th>\n",
       "      <td>0-3 Years</td>\n",
       "      <td>Associate Cloud Engineer</td>\n",
       "      <td>Full-time</td>\n",
       "      <td>Hyderabad</td>\n",
       "    </tr>\n",
       "    <tr>\n",
       "      <th>13</th>\n",
       "      <td>3-8 Years</td>\n",
       "      <td>Sr Full Stack Developer</td>\n",
       "      <td>Full-time</td>\n",
       "      <td>Mauritius</td>\n",
       "    </tr>\n",
       "    <tr>\n",
       "      <th>14</th>\n",
       "      <td>7-12 Years</td>\n",
       "      <td>Sr SAP PI/PO Developer</td>\n",
       "      <td>Contract</td>\n",
       "      <td>New Jersey</td>\n",
       "    </tr>\n",
       "    <tr>\n",
       "      <th>15</th>\n",
       "      <td>1-4 Years</td>\n",
       "      <td>Blockchain Developer</td>\n",
       "      <td>Full-time</td>\n",
       "      <td>Hyderabad</td>\n",
       "    </tr>\n",
       "    <tr>\n",
       "      <th>16</th>\n",
       "      <td>1-2 Years</td>\n",
       "      <td>Junior Cloud Native Developer</td>\n",
       "      <td>Full-time</td>\n",
       "      <td>Delaware</td>\n",
       "    </tr>\n",
       "    <tr>\n",
       "      <th>17</th>\n",
       "      <td>3-10 Years</td>\n",
       "      <td>Senior DevOps Engineer</td>\n",
       "      <td>Full-time</td>\n",
       "      <td>Hyderabad</td>\n",
       "    </tr>\n",
       "    <tr>\n",
       "      <th>18</th>\n",
       "      <td>5-11 Years</td>\n",
       "      <td>Lead DevOps Engineer</td>\n",
       "      <td>Full-time</td>\n",
       "      <td>Hyderabad</td>\n",
       "    </tr>\n",
       "    <tr>\n",
       "      <th>19</th>\n",
       "      <td>1-3 Years</td>\n",
       "      <td>Site Reliability Engineer</td>\n",
       "      <td>Full-time</td>\n",
       "      <td>New York</td>\n",
       "    </tr>\n",
       "    <tr>\n",
       "      <th>20</th>\n",
       "      <td>6-12 Years</td>\n",
       "      <td>OSS DevOps Engineer</td>\n",
       "      <td>Full-time</td>\n",
       "      <td>Hyderabad</td>\n",
       "    </tr>\n",
       "    <tr>\n",
       "      <th>21</th>\n",
       "      <td>3-10 Years</td>\n",
       "      <td>Sr SDET</td>\n",
       "      <td>Full-time</td>\n",
       "      <td>New York</td>\n",
       "    </tr>\n",
       "    <tr>\n",
       "      <th>22</th>\n",
       "      <td>7-18 Years</td>\n",
       "      <td>Engineering Lead</td>\n",
       "      <td>Full-time</td>\n",
       "      <td>Mauritius</td>\n",
       "    </tr>\n",
       "    <tr>\n",
       "      <th>23</th>\n",
       "      <td>3-5 Years</td>\n",
       "      <td>Machine Learning Engineer</td>\n",
       "      <td>Full-time</td>\n",
       "      <td>Hyderabad</td>\n",
       "    </tr>\n",
       "  </tbody>\n",
       "</table>\n",
       "</div>"
      ],
      "text/plain": [
       "    experience                         job_title    job_type    location\n",
       "0    0-2 Years                   Big Data Intern  Internship   Hyderabad\n",
       "1   5-10 Years           Senior Cloud Specialist   Full-time   Singapore\n",
       "2    2-5 Years            Cloud Native Developer   Full-time   Hyderabad\n",
       "3    0-4 Years             Data Scientist Intern  Internship   Hyderabad\n",
       "4    2-4 Years                 Embedded Engineer   Full-time   Hyderabad\n",
       "5    2-6 Years  Networking & Security Specialist   Full-time   Hyderabad\n",
       "6    0-1 Years                   System Engineer  Internship   Mauritius\n",
       "7    1-3 Years             Associate QA Engineer   Full-time   Hyderabad\n",
       "8   9-15 Years                Solution Architect   Full-time   Hyderabad\n",
       "9    4-9 Years       Sr. Microservices Developer   Full-time   Hyderabad\n",
       "10   0-1 Years                    SOA Consultant   Full-time   Hyderabad\n",
       "11   3-8 Years          Android Mobile Developer   Full-time   mauritius\n",
       "12   0-3 Years          Associate Cloud Engineer   Full-time   Hyderabad\n",
       "13   3-8 Years           Sr Full Stack Developer   Full-time   Mauritius\n",
       "14  7-12 Years            Sr SAP PI/PO Developer    Contract  New Jersey\n",
       "15   1-4 Years              Blockchain Developer   Full-time   Hyderabad\n",
       "16   1-2 Years     Junior Cloud Native Developer   Full-time    Delaware\n",
       "17  3-10 Years            Senior DevOps Engineer   Full-time   Hyderabad\n",
       "18  5-11 Years              Lead DevOps Engineer   Full-time   Hyderabad\n",
       "19   1-3 Years         Site Reliability Engineer   Full-time    New York\n",
       "20  6-12 Years               OSS DevOps Engineer   Full-time   Hyderabad\n",
       "21  3-10 Years                           Sr SDET   Full-time    New York\n",
       "22  7-18 Years                  Engineering Lead   Full-time   Mauritius\n",
       "23   3-5 Years         Machine Learning Engineer   Full-time   Hyderabad"
      ]
     },
     "execution_count": 7,
     "metadata": {},
     "output_type": "execute_result"
    }
   ],
   "source": [
    "jobs"
   ]
  },
  {
   "cell_type": "markdown",
   "metadata": {},
   "source": [
    "All dates on which each job posting has been updated is specified in a separate div tag, so using similar approach as previous\n",
    "identified all the date div tags and iterated over each tag to get the date the job has been posted"
   ]
  },
  {
   "cell_type": "code",
   "execution_count": 8,
   "metadata": {},
   "outputs": [
    {
     "data": {
      "text/plain": [
       "24"
      ]
     },
     "execution_count": 8,
     "metadata": {},
     "output_type": "execute_result"
    }
   ],
   "source": [
    "date_tags = browser.find_elements_by_css_selector('div.four.wide.right.aligned.computer.tablet.only.column')\n",
    "len(date_tags)"
   ]
  },
  {
   "cell_type": "markdown",
   "metadata": {},
   "source": [
    "Created an empty DataFrame and appended each date the job has been posted into the dataframe"
   ]
  },
  {
   "cell_type": "code",
   "execution_count": 9,
   "metadata": {},
   "outputs": [],
   "source": [
    "dates = pd.DataFrame()\n",
    "\n",
    "for date in date_tags:\n",
    "    date1 = date.find_element_by_css_selector('span').text\n",
    "    date_p = {'date_posted' : date1}\n",
    "    dates  = dates.append(date_p, ignore_index = True)"
   ]
  },
  {
   "cell_type": "markdown",
   "metadata": {},
   "source": [
    "View data points in dates df"
   ]
  },
  {
   "cell_type": "code",
   "execution_count": 17,
   "metadata": {
    "scrolled": true
   },
   "outputs": [
    {
     "data": {
      "text/html": [
       "<div>\n",
       "<style scoped>\n",
       "    .dataframe tbody tr th:only-of-type {\n",
       "        vertical-align: middle;\n",
       "    }\n",
       "\n",
       "    .dataframe tbody tr th {\n",
       "        vertical-align: top;\n",
       "    }\n",
       "\n",
       "    .dataframe thead th {\n",
       "        text-align: right;\n",
       "    }\n",
       "</style>\n",
       "<table border=\"1\" class=\"dataframe\">\n",
       "  <thead>\n",
       "    <tr style=\"text-align: right;\">\n",
       "      <th></th>\n",
       "      <th>date_posted</th>\n",
       "    </tr>\n",
       "  </thead>\n",
       "  <tbody>\n",
       "    <tr>\n",
       "      <th>0</th>\n",
       "      <td>5 days ago</td>\n",
       "    </tr>\n",
       "    <tr>\n",
       "      <th>1</th>\n",
       "      <td>9 days ago</td>\n",
       "    </tr>\n",
       "    <tr>\n",
       "      <th>2</th>\n",
       "      <td>10 days ago</td>\n",
       "    </tr>\n",
       "    <tr>\n",
       "      <th>3</th>\n",
       "      <td>12 days ago</td>\n",
       "    </tr>\n",
       "    <tr>\n",
       "      <th>4</th>\n",
       "      <td>13 days ago</td>\n",
       "    </tr>\n",
       "    <tr>\n",
       "      <th>5</th>\n",
       "      <td>18 days ago</td>\n",
       "    </tr>\n",
       "    <tr>\n",
       "      <th>6</th>\n",
       "      <td>18 days ago</td>\n",
       "    </tr>\n",
       "    <tr>\n",
       "      <th>7</th>\n",
       "      <td>19 days ago</td>\n",
       "    </tr>\n",
       "    <tr>\n",
       "      <th>8</th>\n",
       "      <td>19 days ago</td>\n",
       "    </tr>\n",
       "    <tr>\n",
       "      <th>9</th>\n",
       "      <td>a month ago</td>\n",
       "    </tr>\n",
       "    <tr>\n",
       "      <th>10</th>\n",
       "      <td>a month ago</td>\n",
       "    </tr>\n",
       "    <tr>\n",
       "      <th>11</th>\n",
       "      <td>a month ago</td>\n",
       "    </tr>\n",
       "    <tr>\n",
       "      <th>12</th>\n",
       "      <td>a month ago</td>\n",
       "    </tr>\n",
       "    <tr>\n",
       "      <th>13</th>\n",
       "      <td>a month ago</td>\n",
       "    </tr>\n",
       "    <tr>\n",
       "      <th>14</th>\n",
       "      <td>a month ago</td>\n",
       "    </tr>\n",
       "    <tr>\n",
       "      <th>15</th>\n",
       "      <td>a month ago</td>\n",
       "    </tr>\n",
       "    <tr>\n",
       "      <th>16</th>\n",
       "      <td>2 months ago</td>\n",
       "    </tr>\n",
       "    <tr>\n",
       "      <th>17</th>\n",
       "      <td>2 months ago</td>\n",
       "    </tr>\n",
       "    <tr>\n",
       "      <th>18</th>\n",
       "      <td>2 months ago</td>\n",
       "    </tr>\n",
       "    <tr>\n",
       "      <th>19</th>\n",
       "      <td>2 months ago</td>\n",
       "    </tr>\n",
       "    <tr>\n",
       "      <th>20</th>\n",
       "      <td>2 months ago</td>\n",
       "    </tr>\n",
       "    <tr>\n",
       "      <th>21</th>\n",
       "      <td>2 months ago</td>\n",
       "    </tr>\n",
       "    <tr>\n",
       "      <th>22</th>\n",
       "      <td>2 months ago</td>\n",
       "    </tr>\n",
       "    <tr>\n",
       "      <th>23</th>\n",
       "      <td>2 months ago</td>\n",
       "    </tr>\n",
       "  </tbody>\n",
       "</table>\n",
       "</div>"
      ],
      "text/plain": [
       "     date_posted\n",
       "0     5 days ago\n",
       "1     9 days ago\n",
       "2    10 days ago\n",
       "3    12 days ago\n",
       "4    13 days ago\n",
       "5    18 days ago\n",
       "6    18 days ago\n",
       "7    19 days ago\n",
       "8    19 days ago\n",
       "9    a month ago\n",
       "10   a month ago\n",
       "11   a month ago\n",
       "12   a month ago\n",
       "13   a month ago\n",
       "14   a month ago\n",
       "15   a month ago\n",
       "16  2 months ago\n",
       "17  2 months ago\n",
       "18  2 months ago\n",
       "19  2 months ago\n",
       "20  2 months ago\n",
       "21  2 months ago\n",
       "22  2 months ago\n",
       "23  2 months ago"
      ]
     },
     "execution_count": 17,
     "metadata": {},
     "output_type": "execute_result"
    }
   ],
   "source": [
    "dates"
   ]
  },
  {
   "cell_type": "markdown",
   "metadata": {},
   "source": [
    "Concatenating both Dataframes"
   ]
  },
  {
   "cell_type": "code",
   "execution_count": 18,
   "metadata": {},
   "outputs": [],
   "source": [
    "final = [jobs, dates]"
   ]
  },
  {
   "cell_type": "code",
   "execution_count": 19,
   "metadata": {},
   "outputs": [],
   "source": [
    "result = pd.concat(final, axis=1, join_axes=[jobs.index])"
   ]
  },
  {
   "cell_type": "code",
   "execution_count": null,
   "metadata": {},
   "outputs": [],
   "source": [
    "#returning dataframe into a csv"
   ]
  },
  {
   "cell_type": "code",
   "execution_count": 21,
   "metadata": {},
   "outputs": [],
   "source": [
    "results_df = result.sort_index(ascending= False)"
   ]
  },
  {
   "cell_type": "code",
   "execution_count": 25,
   "metadata": {},
   "outputs": [
    {
     "data": {
      "text/html": [
       "<div>\n",
       "<style scoped>\n",
       "    .dataframe tbody tr th:only-of-type {\n",
       "        vertical-align: middle;\n",
       "    }\n",
       "\n",
       "    .dataframe tbody tr th {\n",
       "        vertical-align: top;\n",
       "    }\n",
       "\n",
       "    .dataframe thead th {\n",
       "        text-align: right;\n",
       "    }\n",
       "</style>\n",
       "<table border=\"1\" class=\"dataframe\">\n",
       "  <thead>\n",
       "    <tr style=\"text-align: right;\">\n",
       "      <th></th>\n",
       "      <th>experience</th>\n",
       "      <th>job_title</th>\n",
       "      <th>job_type</th>\n",
       "      <th>location</th>\n",
       "      <th>date_posted</th>\n",
       "    </tr>\n",
       "  </thead>\n",
       "  <tbody>\n",
       "    <tr>\n",
       "      <th>23</th>\n",
       "      <td>3-5 Years</td>\n",
       "      <td>Machine Learning Engineer</td>\n",
       "      <td>Full-time</td>\n",
       "      <td>Hyderabad</td>\n",
       "      <td>2 months ago</td>\n",
       "    </tr>\n",
       "    <tr>\n",
       "      <th>22</th>\n",
       "      <td>7-18 Years</td>\n",
       "      <td>Engineering Lead</td>\n",
       "      <td>Full-time</td>\n",
       "      <td>Mauritius</td>\n",
       "      <td>2 months ago</td>\n",
       "    </tr>\n",
       "    <tr>\n",
       "      <th>21</th>\n",
       "      <td>3-10 Years</td>\n",
       "      <td>Sr SDET</td>\n",
       "      <td>Full-time</td>\n",
       "      <td>New York</td>\n",
       "      <td>2 months ago</td>\n",
       "    </tr>\n",
       "    <tr>\n",
       "      <th>20</th>\n",
       "      <td>6-12 Years</td>\n",
       "      <td>OSS DevOps Engineer</td>\n",
       "      <td>Full-time</td>\n",
       "      <td>Hyderabad</td>\n",
       "      <td>2 months ago</td>\n",
       "    </tr>\n",
       "    <tr>\n",
       "      <th>19</th>\n",
       "      <td>1-3 Years</td>\n",
       "      <td>Site Reliability Engineer</td>\n",
       "      <td>Full-time</td>\n",
       "      <td>New York</td>\n",
       "      <td>2 months ago</td>\n",
       "    </tr>\n",
       "    <tr>\n",
       "      <th>18</th>\n",
       "      <td>5-11 Years</td>\n",
       "      <td>Lead DevOps Engineer</td>\n",
       "      <td>Full-time</td>\n",
       "      <td>Hyderabad</td>\n",
       "      <td>2 months ago</td>\n",
       "    </tr>\n",
       "    <tr>\n",
       "      <th>17</th>\n",
       "      <td>3-10 Years</td>\n",
       "      <td>Senior DevOps Engineer</td>\n",
       "      <td>Full-time</td>\n",
       "      <td>Hyderabad</td>\n",
       "      <td>2 months ago</td>\n",
       "    </tr>\n",
       "    <tr>\n",
       "      <th>16</th>\n",
       "      <td>1-2 Years</td>\n",
       "      <td>Junior Cloud Native Developer</td>\n",
       "      <td>Full-time</td>\n",
       "      <td>Delaware</td>\n",
       "      <td>2 months ago</td>\n",
       "    </tr>\n",
       "    <tr>\n",
       "      <th>15</th>\n",
       "      <td>1-4 Years</td>\n",
       "      <td>Blockchain Developer</td>\n",
       "      <td>Full-time</td>\n",
       "      <td>Hyderabad</td>\n",
       "      <td>a month ago</td>\n",
       "    </tr>\n",
       "    <tr>\n",
       "      <th>14</th>\n",
       "      <td>7-12 Years</td>\n",
       "      <td>Sr SAP PI/PO Developer</td>\n",
       "      <td>Contract</td>\n",
       "      <td>New Jersey</td>\n",
       "      <td>a month ago</td>\n",
       "    </tr>\n",
       "    <tr>\n",
       "      <th>13</th>\n",
       "      <td>3-8 Years</td>\n",
       "      <td>Sr Full Stack Developer</td>\n",
       "      <td>Full-time</td>\n",
       "      <td>Mauritius</td>\n",
       "      <td>a month ago</td>\n",
       "    </tr>\n",
       "    <tr>\n",
       "      <th>12</th>\n",
       "      <td>0-3 Years</td>\n",
       "      <td>Associate Cloud Engineer</td>\n",
       "      <td>Full-time</td>\n",
       "      <td>Hyderabad</td>\n",
       "      <td>a month ago</td>\n",
       "    </tr>\n",
       "    <tr>\n",
       "      <th>11</th>\n",
       "      <td>3-8 Years</td>\n",
       "      <td>Android Mobile Developer</td>\n",
       "      <td>Full-time</td>\n",
       "      <td>mauritius</td>\n",
       "      <td>a month ago</td>\n",
       "    </tr>\n",
       "    <tr>\n",
       "      <th>10</th>\n",
       "      <td>0-1 Years</td>\n",
       "      <td>SOA Consultant</td>\n",
       "      <td>Full-time</td>\n",
       "      <td>Hyderabad</td>\n",
       "      <td>a month ago</td>\n",
       "    </tr>\n",
       "    <tr>\n",
       "      <th>9</th>\n",
       "      <td>4-9 Years</td>\n",
       "      <td>Sr. Microservices Developer</td>\n",
       "      <td>Full-time</td>\n",
       "      <td>Hyderabad</td>\n",
       "      <td>a month ago</td>\n",
       "    </tr>\n",
       "    <tr>\n",
       "      <th>8</th>\n",
       "      <td>9-15 Years</td>\n",
       "      <td>Solution Architect</td>\n",
       "      <td>Full-time</td>\n",
       "      <td>Hyderabad</td>\n",
       "      <td>19 days ago</td>\n",
       "    </tr>\n",
       "    <tr>\n",
       "      <th>7</th>\n",
       "      <td>1-3 Years</td>\n",
       "      <td>Associate QA Engineer</td>\n",
       "      <td>Full-time</td>\n",
       "      <td>Hyderabad</td>\n",
       "      <td>19 days ago</td>\n",
       "    </tr>\n",
       "    <tr>\n",
       "      <th>6</th>\n",
       "      <td>0-1 Years</td>\n",
       "      <td>System Engineer</td>\n",
       "      <td>Internship</td>\n",
       "      <td>Mauritius</td>\n",
       "      <td>18 days ago</td>\n",
       "    </tr>\n",
       "    <tr>\n",
       "      <th>5</th>\n",
       "      <td>2-6 Years</td>\n",
       "      <td>Networking &amp; Security Specialist</td>\n",
       "      <td>Full-time</td>\n",
       "      <td>Hyderabad</td>\n",
       "      <td>18 days ago</td>\n",
       "    </tr>\n",
       "    <tr>\n",
       "      <th>4</th>\n",
       "      <td>2-4 Years</td>\n",
       "      <td>Embedded Engineer</td>\n",
       "      <td>Full-time</td>\n",
       "      <td>Hyderabad</td>\n",
       "      <td>13 days ago</td>\n",
       "    </tr>\n",
       "    <tr>\n",
       "      <th>3</th>\n",
       "      <td>0-4 Years</td>\n",
       "      <td>Data Scientist Intern</td>\n",
       "      <td>Internship</td>\n",
       "      <td>Hyderabad</td>\n",
       "      <td>12 days ago</td>\n",
       "    </tr>\n",
       "    <tr>\n",
       "      <th>2</th>\n",
       "      <td>2-5 Years</td>\n",
       "      <td>Cloud Native Developer</td>\n",
       "      <td>Full-time</td>\n",
       "      <td>Hyderabad</td>\n",
       "      <td>10 days ago</td>\n",
       "    </tr>\n",
       "    <tr>\n",
       "      <th>1</th>\n",
       "      <td>5-10 Years</td>\n",
       "      <td>Senior Cloud Specialist</td>\n",
       "      <td>Full-time</td>\n",
       "      <td>Singapore</td>\n",
       "      <td>9 days ago</td>\n",
       "    </tr>\n",
       "    <tr>\n",
       "      <th>0</th>\n",
       "      <td>0-2 Years</td>\n",
       "      <td>Big Data Intern</td>\n",
       "      <td>Internship</td>\n",
       "      <td>Hyderabad</td>\n",
       "      <td>5 days ago</td>\n",
       "    </tr>\n",
       "  </tbody>\n",
       "</table>\n",
       "</div>"
      ],
      "text/plain": [
       "    experience                         job_title    job_type    location  \\\n",
       "23   3-5 Years         Machine Learning Engineer   Full-time   Hyderabad   \n",
       "22  7-18 Years                  Engineering Lead   Full-time   Mauritius   \n",
       "21  3-10 Years                           Sr SDET   Full-time    New York   \n",
       "20  6-12 Years               OSS DevOps Engineer   Full-time   Hyderabad   \n",
       "19   1-3 Years         Site Reliability Engineer   Full-time    New York   \n",
       "18  5-11 Years              Lead DevOps Engineer   Full-time   Hyderabad   \n",
       "17  3-10 Years            Senior DevOps Engineer   Full-time   Hyderabad   \n",
       "16   1-2 Years     Junior Cloud Native Developer   Full-time    Delaware   \n",
       "15   1-4 Years              Blockchain Developer   Full-time   Hyderabad   \n",
       "14  7-12 Years            Sr SAP PI/PO Developer    Contract  New Jersey   \n",
       "13   3-8 Years           Sr Full Stack Developer   Full-time   Mauritius   \n",
       "12   0-3 Years          Associate Cloud Engineer   Full-time   Hyderabad   \n",
       "11   3-8 Years          Android Mobile Developer   Full-time   mauritius   \n",
       "10   0-1 Years                    SOA Consultant   Full-time   Hyderabad   \n",
       "9    4-9 Years       Sr. Microservices Developer   Full-time   Hyderabad   \n",
       "8   9-15 Years                Solution Architect   Full-time   Hyderabad   \n",
       "7    1-3 Years             Associate QA Engineer   Full-time   Hyderabad   \n",
       "6    0-1 Years                   System Engineer  Internship   Mauritius   \n",
       "5    2-6 Years  Networking & Security Specialist   Full-time   Hyderabad   \n",
       "4    2-4 Years                 Embedded Engineer   Full-time   Hyderabad   \n",
       "3    0-4 Years             Data Scientist Intern  Internship   Hyderabad   \n",
       "2    2-5 Years            Cloud Native Developer   Full-time   Hyderabad   \n",
       "1   5-10 Years           Senior Cloud Specialist   Full-time   Singapore   \n",
       "0    0-2 Years                   Big Data Intern  Internship   Hyderabad   \n",
       "\n",
       "     date_posted  \n",
       "23  2 months ago  \n",
       "22  2 months ago  \n",
       "21  2 months ago  \n",
       "20  2 months ago  \n",
       "19  2 months ago  \n",
       "18  2 months ago  \n",
       "17  2 months ago  \n",
       "16  2 months ago  \n",
       "15   a month ago  \n",
       "14   a month ago  \n",
       "13   a month ago  \n",
       "12   a month ago  \n",
       "11   a month ago  \n",
       "10   a month ago  \n",
       "9    a month ago  \n",
       "8    19 days ago  \n",
       "7    19 days ago  \n",
       "6    18 days ago  \n",
       "5    18 days ago  \n",
       "4    13 days ago  \n",
       "3    12 days ago  \n",
       "2    10 days ago  \n",
       "1     9 days ago  \n",
       "0     5 days ago  "
      ]
     },
     "execution_count": 25,
     "metadata": {},
     "output_type": "execute_result"
    }
   ],
   "source": [
    "results_df"
   ]
  },
  {
   "cell_type": "code",
   "execution_count": 22,
   "metadata": {},
   "outputs": [],
   "source": [
    "results_df.to_csv('JobsList.csv', index=False)"
   ]
  },
  {
   "cell_type": "code",
   "execution_count": null,
   "metadata": {},
   "outputs": [],
   "source": []
  },
  {
   "cell_type": "code",
   "execution_count": null,
   "metadata": {},
   "outputs": [],
   "source": []
  },
  {
   "cell_type": "code",
   "execution_count": null,
   "metadata": {},
   "outputs": [],
   "source": []
  }
 ],
 "metadata": {
  "kernelspec": {
   "display_name": "Python 3",
   "language": "python",
   "name": "python3"
  },
  "language_info": {
   "codemirror_mode": {
    "name": "ipython",
    "version": 3
   },
   "file_extension": ".py",
   "mimetype": "text/x-python",
   "name": "python",
   "nbconvert_exporter": "python",
   "pygments_lexer": "ipython3",
   "version": "3.7.1"
  }
 },
 "nbformat": 4,
 "nbformat_minor": 2
}
